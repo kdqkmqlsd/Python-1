{
 "cells": [
  {
   "cell_type": "markdown",
   "metadata": {},
   "source": [
    "# Drill : built-in functions\n",
    "Use the native python functions to do these exercises."
   ]
  },
  {
   "cell_type": "markdown",
   "metadata": {},
   "source": [
    "### 1. Create a variable `count_alpha` that contains the number of characters contained in the string `\"Hello world!\"`."
   ]
  },
  {
   "cell_type": "code",
   "execution_count": null,
   "metadata": {},
   "outputs": [],
   "source": [
    "count_alpha = \"hello world!\""
   ]
  },
  {
   "cell_type": "markdown",
   "metadata": {},
   "source": [
    "### 2. Create a variable `count_float` and cast the variable `count_alpha` to float."
   ]
  },
  {
   "cell_type": "code",
   "execution_count": null,
   "metadata": {},
   "outputs": [],
   "source": [
    "count_alpha = \"hello world!\"\n",
    "count_float = float(\"hello world!\")"
   ]
  },
  {
   "cell_type": "markdown",
   "metadata": {},
   "source": [
    "### 3. Round the variable `pi` value to 2 decimal places (0.01) and save it in a variable `round_pi`. You can get `pi` from the `math` library."
   ]
  },
  {
   "cell_type": "code",
   "execution_count": 2,
   "metadata": {},
   "outputs": [],
   "source": [
    "import math\n",
    "\n",
    "round_pi = round(math.pi, 2)\n"
   ]
  },
  {
   "cell_type": "markdown",
   "metadata": {},
   "source": [
    "### 4. Create a variable `reversed_text` which contains the character string `\"Hello world!\"` backwards.\n",
    "The result must be a `list` object."
   ]
  },
  {
   "cell_type": "code",
   "execution_count": 4,
   "metadata": {},
   "outputs": [
    {
     "name": "stdout",
     "output_type": "stream",
     "text": [
      "['!', 'd', 'l', 'r', 'o', 'w', ' ', 'o', 'l', 'l', 'e', 'H']\n"
     ]
    }
   ],
   "source": [
    "text = \"Hello world!\"\n",
    "reversed_text = list(text[::-1])\n",
    "print(f\"{reversed_text}\")"
   ]
  },
  {
   "cell_type": "markdown",
   "metadata": {},
   "source": [
    "### 5. Create a variable `age`  and ask the user to enter his age. Then display it and display its type. "
   ]
  },
  {
   "cell_type": "code",
   "execution_count": null,
   "metadata": {},
   "outputs": [],
   "source": []
  },
  {
   "cell_type": "markdown",
   "metadata": {},
   "source": [
    "### 6. Create a variable `sorted_num` that contains the sorted `num` list.\n"
   ]
  },
  {
   "cell_type": "code",
   "execution_count": null,
   "metadata": {},
   "outputs": [],
   "source": [
    "num = [2, 8, 1, 4, 6, 3, 7]"
   ]
  },
  {
   "cell_type": "markdown",
   "metadata": {},
   "source": [
    "### 7. Create a variable `sum_of_list` which contains the sum of all the elements in the list `num`."
   ]
  },
  {
   "cell_type": "code",
   "execution_count": null,
   "metadata": {},
   "outputs": [],
   "source": [
    "num = [2, 8, 1, 4, 6, 3, 7]"
   ]
  },
  {
   "cell_type": "markdown",
   "metadata": {},
   "source": [
    "### 8. Create a variable `min_value` that contains a minimum value of list `num`."
   ]
  },
  {
   "cell_type": "code",
   "execution_count": null,
   "metadata": {},
   "outputs": [],
   "source": [
    "num = [2, 8, 1, 4, 6, 3, 7]"
   ]
  },
  {
   "cell_type": "markdown",
   "metadata": {},
   "source": [
    "### 9. Create a variable `max_value` that contains the maximum value of list `num`."
   ]
  },
  {
   "cell_type": "code",
   "execution_count": null,
   "metadata": {},
   "outputs": [],
   "source": [
    "num = [2, 8, 1, 4, 6, 3, 7]"
   ]
  },
  {
   "cell_type": "markdown",
   "metadata": {},
   "source": [
    "### 10. Find a function that will interpret the string of the variable `calc`\n",
    "Save the result in a variable named `string_interpret`."
   ]
  },
  {
   "cell_type": "code",
   "execution_count": null,
   "metadata": {},
   "outputs": [],
   "source": [
    "calc = \"1 + 2\""
   ]
  },
  {
   "cell_type": "markdown",
   "metadata": {},
   "source": [
    "## Testing\n",
    "\n",
    "The following piece of code is to test that you have correctly done the above exercises.\n",
    "If it fails, it means that some of your code is not correct. Read the error messages of each test carefully.\n",
    "\n",
    "If the syntax of the code below is confusing (`class`,`self`, etc...), don't worry, you will see it soon. The only thing you should know is that the method `assertEqual` checks if the right argument matches the left one, e.g. for `assertEqual(count_alpha, 12)` it checks that `count_alpha` is equal to 12.\n",
    "\n",
    "Please don't modify the code, you just have to execute it."
   ]
  },
  {
   "cell_type": "code",
   "execution_count": 1,
   "metadata": {},
   "outputs": [
    {
     "name": "stderr",
     "output_type": "stream",
     "text": [
      "test_age (__main__.TestNotebook) ... ERROR\n",
      "test_count_alpha (__main__.TestNotebook) ... ERROR\n",
      "test_count_float (__main__.TestNotebook) ... ERROR\n",
      "test_interpret (__main__.TestNotebook) ... ERROR\n",
      "test_max (__main__.TestNotebook) ... ERROR\n",
      "test_min (__main__.TestNotebook) ... ERROR\n",
      "test_pi (__main__.TestNotebook) ... ERROR\n",
      "test_reversed (__main__.TestNotebook) ... ERROR\n",
      "test_sorted (__main__.TestNotebook) ... ERROR\n",
      "test_sum (__main__.TestNotebook) ... ERROR\n",
      "\n",
      "======================================================================\n",
      "ERROR: test_age (__main__.TestNotebook)\n",
      "----------------------------------------------------------------------\n",
      "Traceback (most recent call last):\n",
      "  File \"/tmp/ipykernel_43076/1829869242.py\", line 20, in test_age\n",
      "    self.assertEqual(type(age), str)\n",
      "NameError: name 'age' is not defined\n",
      "\n",
      "======================================================================\n",
      "ERROR: test_count_alpha (__main__.TestNotebook)\n",
      "----------------------------------------------------------------------\n",
      "Traceback (most recent call last):\n",
      "  File \"/tmp/ipykernel_43076/1829869242.py\", line 6, in test_count_alpha\n",
      "    self.assertEqual(count_alpha, 12)\n",
      "NameError: name 'count_alpha' is not defined\n",
      "\n",
      "======================================================================\n",
      "ERROR: test_count_float (__main__.TestNotebook)\n",
      "----------------------------------------------------------------------\n",
      "Traceback (most recent call last):\n",
      "  File \"/tmp/ipykernel_43076/1829869242.py\", line 9, in test_count_float\n",
      "    self.assertEqual(type(count_float), float)\n",
      "NameError: name 'count_float' is not defined\n",
      "\n",
      "======================================================================\n",
      "ERROR: test_interpret (__main__.TestNotebook)\n",
      "----------------------------------------------------------------------\n",
      "Traceback (most recent call last):\n",
      "  File \"/tmp/ipykernel_43076/1829869242.py\", line 35, in test_interpret\n",
      "    self.assertEqual(string_interpret, 3)\n",
      "NameError: name 'string_interpret' is not defined\n",
      "\n",
      "======================================================================\n",
      "ERROR: test_max (__main__.TestNotebook)\n",
      "----------------------------------------------------------------------\n",
      "Traceback (most recent call last):\n",
      "  File \"/tmp/ipykernel_43076/1829869242.py\", line 32, in test_max\n",
      "    self.assertEqual(max_value, 8)\n",
      "NameError: name 'max_value' is not defined\n",
      "\n",
      "======================================================================\n",
      "ERROR: test_min (__main__.TestNotebook)\n",
      "----------------------------------------------------------------------\n",
      "Traceback (most recent call last):\n",
      "  File \"/tmp/ipykernel_43076/1829869242.py\", line 29, in test_min\n",
      "    self.assertEqual(min_value, 1)\n",
      "NameError: name 'min_value' is not defined\n",
      "\n",
      "======================================================================\n",
      "ERROR: test_pi (__main__.TestNotebook)\n",
      "----------------------------------------------------------------------\n",
      "Traceback (most recent call last):\n",
      "  File \"/tmp/ipykernel_43076/1829869242.py\", line 12, in test_pi\n",
      "    self.assertEqual(3.14, round_pi)\n",
      "NameError: name 'round_pi' is not defined\n",
      "\n",
      "======================================================================\n",
      "ERROR: test_reversed (__main__.TestNotebook)\n",
      "----------------------------------------------------------------------\n",
      "Traceback (most recent call last):\n",
      "  File \"/tmp/ipykernel_43076/1829869242.py\", line 16, in test_reversed\n",
      "    reversed_text, [\"!\", \"d\", \"l\", \"r\", \"o\", \"w\", \" \", \"o\", \"l\", \"l\", \"e\", \"H\"]\n",
      "NameError: name 'reversed_text' is not defined\n",
      "\n",
      "======================================================================\n",
      "ERROR: test_sorted (__main__.TestNotebook)\n",
      "----------------------------------------------------------------------\n",
      "Traceback (most recent call last):\n",
      "  File \"/tmp/ipykernel_43076/1829869242.py\", line 23, in test_sorted\n",
      "    self.assertEqual(sorted_num, [1, 2, 3, 4, 6, 7, 8])\n",
      "NameError: name 'sorted_num' is not defined\n",
      "\n",
      "======================================================================\n",
      "ERROR: test_sum (__main__.TestNotebook)\n",
      "----------------------------------------------------------------------\n",
      "Traceback (most recent call last):\n",
      "  File \"/tmp/ipykernel_43076/1829869242.py\", line 26, in test_sum\n",
      "    self.assertEqual(sum_of_list, 31)\n",
      "NameError: name 'sum_of_list' is not defined\n",
      "\n",
      "----------------------------------------------------------------------\n",
      "Ran 10 tests in 0.007s\n",
      "\n",
      "FAILED (errors=10)\n"
     ]
    },
    {
     "data": {
      "text/plain": [
       "<unittest.main.TestProgram at 0x7ff136c8a560>"
      ]
     },
     "execution_count": 1,
     "metadata": {},
     "output_type": "execute_result"
    }
   ],
   "source": [
    "import unittest\n",
    "\n",
    "\n",
    "class TestNotebook(unittest.TestCase):\n",
    "    def test_count_alpha(self):\n",
    "        self.assertEqual(count_alpha, 12)\n",
    "\n",
    "    def test_count_float(self):\n",
    "        self.assertEqual(type(count_float), float)\n",
    "\n",
    "    def test_pi(self):\n",
    "        self.assertEqual(3.14, round_pi)\n",
    "\n",
    "    def test_reversed(self):\n",
    "        self.assertEqual(\n",
    "            reversed_text, [\"!\", \"d\", \"l\", \"r\", \"o\", \"w\", \" \", \"o\", \"l\", \"l\", \"e\", \"H\"]\n",
    "        )\n",
    "\n",
    "    def test_age(self):\n",
    "        self.assertEqual(type(age), str)\n",
    "\n",
    "    def test_sorted(self):\n",
    "        self.assertEqual(sorted_num, [1, 2, 3, 4, 6, 7, 8])\n",
    "\n",
    "    def test_sum(self):\n",
    "        self.assertEqual(sum_of_list, 31)\n",
    "\n",
    "    def test_min(self):\n",
    "        self.assertEqual(min_value, 1)\n",
    "\n",
    "    def test_max(self):\n",
    "        self.assertEqual(max_value, 8)\n",
    "\n",
    "    def test_interpret(self):\n",
    "        self.assertEqual(string_interpret, 3)\n",
    "\n",
    "\n",
    "unittest.main(argv=[\"\"], verbosity=2, exit=False)"
   ]
  },
  {
   "cell_type": "markdown",
   "metadata": {},
   "source": [
    "## [Next one](../6.tuples-dictionaries/tuples-and-dictionaries.ipynb)"
   ]
  }
 ],
 "metadata": {
  "kernelspec": {
   "display_name": "Python 3",
   "language": "python",
   "name": "python3"
  },
  "language_info": {
   "codemirror_mode": {
    "name": "ipython",
    "version": 3
   },
   "file_extension": ".py",
   "mimetype": "text/x-python",
   "name": "python",
   "nbconvert_exporter": "python",
   "pygments_lexer": "ipython3",
   "version": "3.10.12"
  }
 },
 "nbformat": 4,
 "nbformat_minor": 2
}
